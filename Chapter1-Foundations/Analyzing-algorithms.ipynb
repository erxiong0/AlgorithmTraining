{
 "cells": [
  {
   "cell_type": "markdown",
   "id": "7c0d369c",
   "metadata": {},
   "source": [
    "## 2.2-1\n",
    "Express the function $n^3/1000-100n^2-100n+3$ in terms of $\\Theta$-notation.  \n",
    "  \n",
    "**Answer:** $\\Theta(n^3)$"
   ]
  },
  {
   "cell_type": "markdown",
   "id": "5a479edb",
   "metadata": {},
   "source": [
    "## 2.2-2\n",
    "\n",
    "Consider sorting $n$ numbers stored in array $A$ by first finding the smallest element of $A$ and exchanging it with the element in $A[1]$. Then find the second smallest element of $A$, and exchange it with $A[2]$. Continue in this manner for th first $n-1$ elements of $A$. Write pseudocode for this algorithm, which is known as **selection sort**. What loop invariant does this algorithm maintain? Why does it need to run for only the first $n-1$ elements, rather than for all $n$ elements? Give the best-case and worst-caes running times of selection sort in $\\Theta$-notation.  \n",
    "  \n",
    "```python\n",
    "for i in 1 to n:\n",
    "    min_idx = i\n",
    "    for j in i+1 to n:\n",
    "        if A[j] < A[min_idx]:\n",
    "            min_idx = j\n",
    "    if min_idx != i:\n",
    "        exchange(A[i], A[min_idx])\n",
    "```"
   ]
  },
  {
   "cell_type": "markdown",
   "id": "7fabb050",
   "metadata": {},
   "source": []
  }
 ],
 "metadata": {
  "kernelspec": {
   "display_name": "agent_rag",
   "language": "python",
   "name": "python3"
  },
  "language_info": {
   "name": "python",
   "version": "3.12.9"
  }
 },
 "nbformat": 4,
 "nbformat_minor": 5
}
