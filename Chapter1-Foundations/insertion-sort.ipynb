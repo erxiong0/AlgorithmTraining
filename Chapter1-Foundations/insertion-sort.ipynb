{
 "cells": [
  {
   "cell_type": "markdown",
   "id": "b95724ef",
   "metadata": {},
   "source": [
    "## 2.1-1  \n",
    "Using Figure 2.2 as a model, illustrate the operation of INSERTION-SORT on the array A = $\\langle 31, 41,59,26,41,58\\rangle$.  \n",
    "  \n",
    "Initial array: $\\langle 31,41,59,26,41,58\\rangle$  \n",
    "- 1st iteration: j = 2 (key = 41), i = [1] => $\\langle 31,41,59,26,41,58\\rangle$  \n",
    "- 2nd iteration: j = 3 (key = 59), i = [2] =>  $\\langle 31,41,59,26,41,58\\rangle$  \n",
    "- 3rd iteration: j = 4 (key = 26), i = [1 ,2, 3] => $\\langle 26,31,41,59,41,58\\rangle$ \n",
    "- 4th iteration: j = 5 (key = 41), i = [3, 4] => $\\langle 26,31,41,41,59,58\\rangle$ \n",
    "- 5th iteration: j = 6 (key = 58), i = [4, 5] => $\\langle 26,31,41,41,58, 59\\rangle$ \n",
    "\n"
   ]
  },
  {
   "cell_type": "markdown",
   "id": "0fa192c4",
   "metadata": {},
   "source": [
    "## 2.1-2  \n",
    "Rewrite the INSERTION-SORT procedure to sort into nonincreasing instead of nondecreasing order.  \n",
    "  \n",
    "```python\n",
    "for j = 2 to A.length  \n",
    "    key = A[j]  \n",
    "    // Insert A[j] into the sorted sequence A[1...j-1]  \n",
    "    i = j - 1  \n",
    "    while i > 0 and A[i] < key  \n",
    "        A[i+1] = A[i]  \n",
    "        i = i-1  \n",
    "    A[i+1] = key \n",
    "``` \n",
    "\n"
   ]
  },
  {
   "cell_type": "code",
   "execution_count": 1,
   "id": "fee711e6",
   "metadata": {},
   "outputs": [
    {
     "name": "stdout",
     "output_type": "stream",
     "text": [
      "[59, 58, 41, 41, 31, 26]\n"
     ]
    }
   ],
   "source": [
    "A = [31, 41, 59, 26, 41, 58]\n",
    "\n",
    "for j in range(1, len(A)):\n",
    "    key = A[j]\n",
    "    i = j - 1\n",
    "    while i >= 0 and A[i] < key:\n",
    "        A[i+1] = A[i]\n",
    "        i = i - 1\n",
    "    A[i+1] = key\n",
    "\n",
    "print(A)"
   ]
  },
  {
   "cell_type": "markdown",
   "id": "ef40ff70",
   "metadata": {},
   "source": [
    "## 2.1-3  \n",
    "  \n",
    "Consider the <b>searching problem</b>:  \n",
    "<b>Input</b>: A sequence of $n$ numbers $A = \\langle a_1, a_2, ..., a_n\\rangle$  \n",
    "<b>Output</b>: An index $i$ such that $\\nu = A[i]$ or the special value NIL if $\\nu$ does not appear in $A$  \n",
    "  \n",
    "Write pseudocode for <b>linear search</b>, which scans through the sequence, looking for $\\nu$. Using a loop invariant, prove that your alogrithm is correct. Make sure that your loop invariant fulfills the three necessary properties.  \n",
    "  \n",
    "```python\n",
    "output = NIL\n",
    "for i = 1 to A.length:\n",
    "    if A[i] == v:\n",
    "        output = i\n",
    "```"
   ]
  },
  {
   "cell_type": "markdown",
   "id": "aa61bdd0",
   "metadata": {},
   "source": [
    "## 2.1-4  \n",
    "  \n",
    "Consider the problem of adding two $n$-bit binary integers, stored in two $n$-element arrays $A$ and $B$. The sum of the two integers should be stored in binary form an $(n+1)$-element array $C$. State the problem formally and write pseudocode for adding the two integers.  \n",
    "  \n",
    "### Formal problem statement  \n",
    "Input:  \n",
    "- Two arrays $A[1...n]$ and $B[1...n]$ with $A[i], B[i]\\in\\{0,1\\}$  \n",
    "- They encode $n$-bit binary integers  \n",
    "$${\\rm val}(A) = \\sum_{i=1}^nA[i]\\cdot 2^{n-i},\\quad\\quad {\\rm val}(B)=\\sum_{i=1}^nB[i]\\cdot 2^{n-i}$$\n",
    "\n",
    "Output:\n",
    "- An array $C[1...n+1]$ with $C[i]\\in\\{0,1\\}$, such that. \n",
    "$${\\rm val}(C)=\\sum_{i}^{n+1}C[i]\\cdot 2^{n+1-i} = {\\rm val}(A) + {\\rm val}(B)\n",
    "$$ \n",
    "  \n",
    "```python\n",
    "ADD-BINARY(A[1..n], B[1..n])\n",
    "let C[1..n+1]\n",
    "carry = 0\n",
    "for i in n..1\n",
    "    s = A[i] + B[i] + carry\n",
    "    C[i+1] = s % 2\n",
    "    carry = s // 2\n",
    "C[1] = carry\n",
    "```"
   ]
  }
 ],
 "metadata": {
  "kernelspec": {
   "display_name": "agent_rag",
   "language": "python",
   "name": "python3"
  },
  "language_info": {
   "codemirror_mode": {
    "name": "ipython",
    "version": 3
   },
   "file_extension": ".py",
   "mimetype": "text/x-python",
   "name": "python",
   "nbconvert_exporter": "python",
   "pygments_lexer": "ipython3",
   "version": "3.12.9"
  }
 },
 "nbformat": 4,
 "nbformat_minor": 5
}
