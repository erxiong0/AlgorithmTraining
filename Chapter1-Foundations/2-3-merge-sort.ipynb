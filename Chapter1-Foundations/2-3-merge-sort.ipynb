{
 "cells": [
  {
   "cell_type": "markdown",
   "id": "eea2cd6b",
   "metadata": {},
   "source": [
    "from pygments.lexers.nimrod import NimrodLexer## 2.3-2\n",
    "\n",
    "Rewrite the MERGE procedure so that it does not use sentinels, instead stopping once either array L or R has had all its elements copied back to $A$ and then copying the remainder of the other array back into $A$.  \n",
    "  \n",
    "```python\n",
    "MERGE(A, p, q, r)\n",
    "n1 = q - p + 1\n",
    "n2 = r - q\n",
    "let L[1..n1] and R[1..n2] be new arrays\n",
    "for i = 1 to n1:\n",
    "    L[i] = A[p + i - 1]\n",
    "for j = 1 to n2:\n",
    "    R[j] = A[q + j]\n",
    "i = 1\n",
    "j = 1\n",
    "for k = p to r:\n",
    "    if L[i] <= R[j]:\n",
    "        A[k] = L[i]\n",
    "        i = i + 1\n",
    "        if i > n1:\n",
    "            A[k + 1:] = R[j:]\n",
    "            break\n",
    "    else:\n",
    "        A[k] = R[j]\n",
    "        j = j + 1\n",
    "        if j > n2:\n",
    "            A[k + 1:] = L[i:]\n",
    "```"
   ]
  },
  {
   "cell_type": "markdown",
   "id": "9f27dc22",
   "metadata": {},
   "source": [
    "## 2.3-3 \n",
    "\n",
    "Use mathematical induction to show that when $n$ is an exact power of 2, the solution of the recurrence\n",
    "\n",
    "$$\n",
    "T(n) = \n",
    "\\begin{cases} \n",
    "2 & \\text{if } n = 2, \\\\\n",
    "2T(n/2) + n & \\text{if } n = 2^k \\text{ for } k > 1.\n",
    "\\end{cases}\n",
    "$$\n",
    "\n",
    "is $T(n)=n\\lg n$\n",
    "\n",
    "Proof: induct on powers $m$ where $n = 2^m$. \n",
    "Claim:\n",
    "$$\n",
    "T(2^m) = 2^mm = 2^m\\lg(2^m)\n",
    "$$\n",
    "- **Base** $m=1$: $T(2) = 2 = 2^1 \\cdot 1$\n",
    "- **Inductive step**: Assume $T(2^m) = 2^mm$. Then\n",
    "$$\n",
    "T(2^{m+1}) = 2T(2^m) + 2^{m+1} = 2\\cdot (2^mm) + 2^{m+1} = 2^{m+1}(m+1) = 2^{m+1}\\lg(2^{m+1})\n",
    "$$\n",
    "So $T(n)=n\\lg n$ for $n=2^m$"
   ]
  },
  {
   "cell_type": "markdown",
   "id": "81252324",
   "metadata": {},
   "source": [
    "## 2.3-4  \n",
    "\n",
    "We can express insertion sort as a recursive procedure as follows. In order to sort $A[1..n]$, we recursively sort $A[1..n-1]$ and then insert $A[n]$ into the sorted array $A[1..n-1]$. Write a reccurrence for the running time of this recursive version of insertion sort.\n",
    "\n",
    "Let $T(n)$ be the running time to recursively insertion-sort an array of length $n$.\n",
    "- **Base case**: $T(1) = \\Theta(1)$\n",
    "- **Recurrence**: to sort $A[1..n]$, first sort $A[1..n-1]$ and then insert $A[n]$ into the sorted prefix by a linear scan/shift\n",
    "\n",
    "If $I(n)$ is the time to insert $A[n]$ into a sorted array of length $n-1$, then\n",
    "$$T(n) = T(n-1) + I(n)\n",
    "$$\n",
    "So,\n",
    "- **Worst case**: $I(n) = \\Theta(n) = n^2$\n",
    "- **Best case**: $I(n) = \\Theta(1) = \\Theta(n)$"
   ]
  },
  {
   "cell_type": "markdown",
   "id": "0b5a13e0",
   "metadata": {},
   "source": [
    "## 2.3-5\n",
    "\n",
    "Referring back to the searching problem (see Exercise 2.1-3), observe that if the sequence $A$ is sorted, we can check the midpoint of the sequence against $\\nu$ and eliminate half of the sequence from further consideration. The **binary search** algorithm repeats this procedure, halving the size of the remaining portion of the sequence each time. Write pseudocode, either iterative or recursive, for binary search. Argue that the worst-case running time of binary search is $\\Theta(\\lg n)$.\n",
    "\n",
    "```python\n",
    "def binary_search(A, v):\n",
    "    left, right = 0, len(A) - 1\n",
    "    while left <= right:\n",
    "        mid = left + (right - left) // 2\n",
    "        if A[mid] < v:\n",
    "            left = mid + 1\n",
    "        elif A[mid] > v:\n",
    "            right = mid - 1\n",
    "        else:\n",
    "            return mid\n",
    "    return None\n",
    "\n",
    "def binary_search_rec(A, v, left=0, right=None):\n",
    "    if right is None:\n",
    "        right = len(A) - 1\n",
    "    if left > right:\n",
    "        return None\n",
    "    mid = left + (right - left) // 2\n",
    "    if A[mid] == v:\n",
    "        return mid\n",
    "    if A[mid] > v:\n",
    "        return binary_search_rec(A, v, left, mid - 1)\n",
    "    else:\n",
    "        return binary_search_rec(A, v, mid + 1, right)\n",
    "```\n",
    "\n",
    "Each iteration halves the search interval size:\n",
    "$$ T(n) = T(\\lfloor n/2\\rfloor) + \\Theta(1)\\Longrightarrow T(n)=\\Theta(\\log n)\n",
    "$$\n",
    "Equivalently, after $t$ steps the interval is $\\leq n/2^t$; once it drops below 1, we're done, so $t=\\Theta(\\log n)$.\n"
   ]
  },
  {
   "metadata": {},
   "cell_type": "markdown",
   "source": [
    "## 2.3-6\n",
    "\n",
    "Observe that the **while** loop of lines 5-7 of the INSERTION-SORT procedure in Section 2.1 uses a linear search to scan (backward) through the sorted subarray $A[1..j-1]$. Can we use a binary search (see Exercise 2.3-5) instead to improve the overall worst-case running time of insertion sort to $\\Theta(n\\lg n)$?\n",
    "\n",
    "```python\n",
    "# origin insertion-sort\n",
    "def insert_sort(A: list) -> list:\n",
    "    for j in range(1, len(A)):\n",
    "        key = A[j]\n",
    "        i = j - 1\n",
    "        while i >= 0 and A[i] > key:\n",
    "            A[i + 1] = A[i]\n",
    "            i = i - 1\n",
    "        A[i + 1] = key\n",
    "    return A\n",
    "```\n",
    "\n",
    "We cannot use a binary search instead to improve the overall worst-case running time of insertion sort since we have to shift greater elements one by one. And the total cost is\n",
    "$$\\sum_{j=1}^{n-1}(O(\\log j) + O(j)) = \\Theta(n^2)\n",
    "$$\n",
    "where $O(\\log j)$ is the cost time to find index and $O(j)$ is the cost time to shift."
   ],
   "id": "54b8ce717dcd1572"
  },
  {
   "metadata": {},
   "cell_type": "markdown",
   "source": [
    "## 2.3-7\n",
    "\n",
    "Describe a $\\Theta(n\\lg n)$-time algorithm that, given a set $S$ of $n$ integers and another integer $x$, determines whether or not there exist two elements in $S$ whose sum is exactly $x$."
   ],
   "id": "524b97a9bc3c9646"
  },
  {
   "metadata": {
    "ExecuteTime": {
     "end_time": "2025-08-30T07:04:19.662488Z",
     "start_time": "2025-08-30T07:04:19.658682Z"
    }
   },
   "cell_type": "code",
   "source": [
    "def quick_sort(arr: list):\n",
    "    if len(arr) <= 1:\n",
    "        return arr\n",
    "    pivot = arr[0]\n",
    "    left = [x for x in arr if x <= pivot]\n",
    "    right = [x for x in arr if x > pivot]\n",
    "    return quick_sort(left) + [pivot] + quick_sort(right)\n",
    "\n",
    "# Average-case running time: T(n) = O(n) + 2 * T(n/2) => O(nlog n)\n",
    "\n",
    "def judge_target_improved(arr: list, target: int) -> bool:\n",
    "    arr_sorted = quick_sort(arr)\n",
    "    left, right = 0, len(arr_sorted) - 1\n",
    "    while left < right:\n",
    "        current_sum = arr_sorted[left] + arr_sorted[right]\n",
    "        if current_sum == target:\n",
    "            return True\n",
    "        elif current_sum < target:\n",
    "            left += 1\n",
    "        else:\n",
    "            right -= 1\n",
    "    return False"
   ],
   "id": "2d728385d7618ea0",
   "outputs": [],
   "execution_count": 1
  },
  {
   "metadata": {},
   "cell_type": "code",
   "outputs": [],
   "execution_count": null,
   "source": "",
   "id": "3b88023151af2f21"
  }
 ],
 "metadata": {
  "kernelspec": {
   "display_name": "agent_rag",
   "language": "python",
   "name": "python3"
  },
  "language_info": {
   "name": "python",
   "version": "3.12.9"
  }
 },
 "nbformat": 4,
 "nbformat_minor": 5
}
