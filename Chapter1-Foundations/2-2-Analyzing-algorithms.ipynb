{
 "cells": [
  {
   "cell_type": "markdown",
   "id": "7c0d369c",
   "metadata": {},
   "source": [
    "## 2.2-1\n",
    "Express the function $n^3/1000-100n^2-100n+3$ in terms of $\\Theta$-notation.  \n",
    "  \n",
    "**Answer:** $\\Theta(n^3)$"
   ]
  },
  {
   "cell_type": "markdown",
   "id": "5a479edb",
   "metadata": {},
   "source": [
    "## 2.2-2\n",
    "\n",
    "Consider sorting $n$ numbers stored in array $A$ by first finding the smallest element of $A$ and exchanging it with the element in $A[1]$. Then find the second smallest element of $A$, and exchange it with $A[2]$. Continue in this manner for th first $n-1$ elements of $A$. Write pseudocode for this algorithm, which is known as **selection sort**. What loop invariant does this algorithm maintain? Why does it need to run for only the first $n-1$ elements, rather than for all $n$ elements? Give the best-case and worst-caes running times of selection sort in $\\Theta$-notation.  \n",
    "  \n",
    "```python\n",
    "for i in 1 to n-1:                          # c1 * n\n",
    "    min_idx = i                             # c2 * (n - 1)\n",
    "    for j in i+1 to n:                      # c3 * \\sum_{i=1}^{n-1}(n-i) = n(n-1)/2\n",
    "        if A[j] < A[min_idx]:               # c4 * n(n-1)/2\n",
    "            min_idx = j                     # c5 * n(n-1)/2\n",
    "    if min_idx != i:                        # c6 * (n - 1)\n",
    "        exchange(A[i], A[min_idx])          # c7 * (n - 1)\n",
    "```\n",
    "\n",
    "**Loop invariant**\n",
    "Given any $i$, the subarray $A[1..i-1]$ is sorted.\n",
    "Initial: i = 1, the prefix of $A[:1]$ is empty.\n",
    "Maintenance: After the $i$th iteration of the for loop, we find $A[i..n]$'s minimum element and exchange it with $A[i]$. The subarray $A[1..i]$ is sorted.\n",
    "Termination: When i = n, according to the loop invariant, the subarray $A[1..n]$ is sorted.\n",
    "\n",
    "**Best-case and worst-case running times**\n",
    "$$T(n) = c1 \\times n + c2\\times (n-1) + c3 \\times \\frac{n(n-1)}{2} + c4\\times \\frac{n(n-1)}{2}+c5\\times\\frac{n(n-1)}{2} + c6\\times (n-1) + c7\\times(n-1)\n",
    "$$\n",
    "- For the best case:\n",
    "$$T(n) = c1\\times n + c2\\times (n-1) + (c3 + c4)\\times\\frac{n(n-1)}{2}+c6\\times(n-1) =\\Theta(n^2)\n",
    "$$ \n",
    "- For the worst case:\n",
    "$$T(n) = c1\\times n + c2\\times (n-1) + (c3+ c4 +c5)\\times\\frac{n(n-1)}{2} +c6\\times(n-1) + c7\\times(n-1) = \\Theta(n^2)\n",
    "$$"
   ]
  },
  {
   "cell_type": "markdown",
   "id": "7fabb050",
   "metadata": {},
   "source": [
    "## 2.2-3\n",
    "\n",
    "Consider linear search again (see Exercise 2.1-3). How many elements of the input sequence need to be checked on the average, **assuming that the element being searched for is equally** likely to be any element in the array? How about in the worst case? What are the average-case and worst-case running times of linear search in $\\Theta$-notation? Justify your answers.  \n",
    "  \n",
    "```python\n",
    "output = NIL               # c1 * 1\n",
    "for i = 1 to A.length:     # c2 * m \n",
    "    if A[i] == v:          # c3 * m\n",
    "        output = i         # c4 * 1\n",
    "        break              # c5 * 1\n",
    "return output              # c6 * 1   \n",
    "```\n",
    "\n",
    "**Average-case and bad-case running time**\n",
    "$$\n",
    "T(n) = c1  + c2\\times m + c3\\times m + (c4 + c5)\\times I_{\\rm found} + c6\n",
    "$$\n",
    "\n",
    "- For average-case\n",
    "$$\\mathbb{E}[m] = p\\cdot\\frac{n+1}{2} + (1-p)\\cdot n,\\quad\\quad \\mathbb{E}[I_{\\rm found}] = p\n",
    "$$\n",
    "$$\n",
    "\\mathbb{E}[T(n)] = c1  + (c2 + c3) \\times \\mathbb{E}[m] + (c4 + c5)\\times \\mathbb{E}[I_{\\rm found}] + c6 = \\Theta(n)\n",
    "$$\n",
    "- For bad-case\n",
    "$$\n",
    "T(n) = c1  + (c2 + c3)\\times n + (c4 + c5)\\times I_{\\rm found} + c6 = \\Theta(n)\n",
    "$$"
   ]
  },
  {
   "cell_type": "code",
   "execution_count": null,
   "id": "7be2f5be",
   "metadata": {},
   "outputs": [],
   "source": []
  },
  {
   "cell_type": "code",
   "execution_count": null,
   "id": "f6208593",
   "metadata": {},
   "outputs": [],
   "source": []
  }
 ],
 "metadata": {
  "kernelspec": {
   "display_name": "agent_rag",
   "language": "python",
   "name": "python3"
  },
  "language_info": {
   "name": "python",
   "version": "3.12.9"
  }
 },
 "nbformat": 4,
 "nbformat_minor": 5
}
