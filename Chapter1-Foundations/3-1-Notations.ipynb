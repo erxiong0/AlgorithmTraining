{
 "cells": [
  {
   "metadata": {},
   "cell_type": "markdown",
   "source": [
    "## 3.1-1\n",
    "\n",
    "Let $f(n)$ and $g(n)$ be asymptotically nonnegative functions. Using the basic definition of $\\Theta$-notation, prove that $\\max(f(n), g(n))=\\Theta(f(n) + g(n))$\n",
    "\n",
    "**Proof**:\n",
    "Let $c_1 = \\frac{1}{2}, c_2 = 1$, then we have\n",
    "$$\n",
    "\\frac{1}{2}(f(n) + g(n))\\leq \\max(f(n) + g(n)) \\leq f(n) + g(n)\n",
    "$$\n"
   ],
   "id": "3cd2625d0de20671"
  },
  {
   "metadata": {},
   "cell_type": "markdown",
   "source": [
    "## 3.1-3\n",
    "\n",
    "Explain why the statement, \"The running time of algorithm $A$ is at least $O(n^2)$,\" is meaningless.\n",
    "\n",
    "**Proof**\n",
    "Because $O$ is an upper bound, while the phrase \"at least\" expresses a lower bound.\n",
    "Saying \"the running time is at least $O(n^2)$\" mixes incompatible notions:\n",
    "- $f(n)\\in O(n^2)$ means $f(n)$ grows no faster than a constant $n^2$ eventually (an upper bound).\n",
    "- A lower-bound claim should use $\\Omega: f(n)\\in\\Omega(n^2)$\n",
    "\n",
    "Moreover, $O(n^2)$ is a set of functions (including constants, linear, etc), so \"at least $O(n^2)$\" is ill-typed/ambiguous-e.g., it could be vacuously true if you compare to some $g(n)\\in O(n^2)$ like $g(n)=1$.\n",
    "\n",
    "The meaningful statements are:\n",
    "- The running time is $O(n^2)$ (at most quadratic)\n",
    "- The running time is $\\Omega(n^2)$ (at least quadratic)\n",
    "- The running time is $\\Theta(n^2)$ (tight quadratic)\n"
   ],
   "id": "7d8430c5e765af70"
  },
  {
   "metadata": {},
   "cell_type": "markdown",
   "source": [
    "## 3.1-4\n",
    "\n",
    "Is $s^{n+1}=O(2^n)$? Is $2^{2n} = O(2^n)$?\n",
    "\n",
    "**Proof**\n",
    "Since $2^{n+1} = 2 \\times 2^n$, so asymptotically,\n",
    "$$\n",
    "2^{n+1}\\leq c\\cdot 2^n\\quad\\quad {\\rm for}\\ c=2\n",
    "$$\n",
    "\n",
    "And $2^{n+1}\\in O(2^n)$\n",
    "\n",
    "For $2^{2n}$, we have $2^{2n} = (2^n)^2$\n",
    "$$\n",
    "\\frac{2^{2n}}{2^n} = 2^n \\rightarrow \\infty\\ {\\rm as}\\ n\\rightarrow \\infty\n",
    "$$\n",
    "That means $2^{2n}$ grows strictly faster than $2^n$\n",
    "\n",
    "So there is no constant $c$ such that $2^{2n}\\leq c\\cdot 2^n$ for large $n$"
   ],
   "id": "b1d1a0bfdef7bc34"
  },
  {
   "metadata": {},
   "cell_type": "code",
   "outputs": [],
   "execution_count": null,
   "source": "",
   "id": "3f431f4d45a2249e"
  }
 ],
 "metadata": {},
 "nbformat": 4,
 "nbformat_minor": 5
}
